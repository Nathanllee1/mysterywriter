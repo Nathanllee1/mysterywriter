{
  "nbformat": 4,
  "nbformat_minor": 0,
  "metadata": {
    "colab": {
      "name": "mysterstorytrainer.ipynb",
      "version": "0.3.2",
      "provenance": [],
      "collapsed_sections": [],
      "toc_visible": true,
      "include_colab_link": true
    },
    "kernelspec": {
      "name": "python3",
      "display_name": "Python 3"
    },
    "accelerator": "GPU"
  },
  "cells": [
    {
      "cell_type": "markdown",
      "metadata": {
        "id": "view-in-github",
        "colab_type": "text"
      },
      "source": [
        "<a href=\"https://colab.research.google.com/github/Nathanllee1/mysterywriter/blob/master/mysterstorytrainer.ipynb\" target=\"_parent\"><img src=\"https://colab.research.google.com/assets/colab-badge.svg\" alt=\"Open In Colab\"/></a>"
      ]
    },
    {
      "metadata": {
        "id": "H7LoMj4GA4n_",
        "colab_type": "text"
      },
      "cell_type": "markdown",
      "source": [
        "#  Interactive textgenrnn Demo w/ GPU\n",
        "\n",
        "by [Max Woolf](http://minimaxir.com)\n",
        "\n",
        "*Last updated: December 2nd, 2018*\n",
        "\n",
        "Generate text using a pretrained neural network with a few lines of code, or easily train your own text-generating neural network of any size and complexity, **for free on a GPU using Collaboratory!**\n",
        "\n",
        "For more about textgenrnn, you can visit [this GitHub repository](https://github.com/minimaxir/textgenrnn).\n",
        "\n",
        "\n",
        "To get started:\n",
        "\n",
        "1. Copy this notebook to your Google Drive to keep it and save your changes.\n",
        "2. Make sure you're running the notebook in Google Chrome.\n",
        "3. Run the cells below:\n"
      ]
    },
    {
      "metadata": {
        "id": "KBkpRgBCBS2_",
        "colab_type": "code",
        "outputId": "56b4f4dd-cbc9-4cc1-cff9-3d2378f19051",
        "colab": {
          "base_uri": "https://localhost:8080/",
          "height": 34
        }
      },
      "cell_type": "code",
      "source": [
        "!pip install -q textgenrnn\n",
        "from google.colab import files\n",
        "from textgenrnn import textgenrnn\n",
        "from datetime import datetime\n",
        "import os"
      ],
      "execution_count": 1,
      "outputs": [
        {
          "output_type": "stream",
          "text": [
            "Using TensorFlow backend.\n"
          ],
          "name": "stderr"
        }
      ]
    },
    {
      "metadata": {
        "id": "Eps1pG5Sximh",
        "colab_type": "code",
        "outputId": "3320d208-389b-4fb2-b6c8-975aee5c203d",
        "colab": {
          "base_uri": "https://localhost:8080/",
          "height": 207
        }
      },
      "cell_type": "code",
      "source": [
        "textgen = textgenrnn()\n",
        "textgen.generate(5)"
      ],
      "execution_count": 2,
      "outputs": [
        {
          "output_type": "stream",
          "text": [
            "[Specific] Can someone please remove my best friends and we were the only pictures of the shots of the characters start showing me he never scared and see if it's a storm that they were disappointed.\n",
            "\n",
            "I was higher to my favorite parents are the way to get some of the most porn sides on the Main Lady Control State on The Pink Score As In The Should Made The Car Parals\n",
            "\n",
            "What would you do to the back of the story of the marijuana of my story of my best friends in a train that I could start the teacher of the story of the country commits is a late in the Moon and he was a ridiculous and the stream of the side of the Star Wars in a car company to use anything else t\n",
            "\n",
            "[Spoilers] A group of the same to stop the computer in the love of the dog that work by a video of the next version of the Paint Of Fallout 4 Concept and More Classic Scheft in Secrets station in an artist in a bank with a car with the house. What does it solid the time?\n",
            "\n",
            "Every time I need to spend the person for the summer to make the less in a guy in the app in the season to the competition of the projection to a huge main place.\n",
            "\n"
          ],
          "name": "stdout"
        }
      ]
    },
    {
      "metadata": {
        "id": "0wXB05bPDYxS",
        "colab_type": "text"
      },
      "cell_type": "markdown",
      "source": [
        "Set the textgenrnn model configuration here: the default parameters here give good results for most workflows. (see the [demo notebook](https://github.com/minimaxir/textgenrnn/blob/master/docs/textgenrnn-demo.ipynb) for more information about these parameters)\n",
        "\n",
        "If you are using an input file where documents are line-delimited, make sure to set `line_delimited` to `True`."
      ]
    },
    {
      "metadata": {
        "id": "P8wSlgXoDPCR",
        "colab_type": "code",
        "colab": {}
      },
      "cell_type": "code",
      "source": [
        "model_cfg = {\n",
        "    'word_level': False,   # set to True if want to train a word-level model (requires more data and smaller max_length)\n",
        "    'rnn_size': 128,   # number of LSTM cells of each layer (128/256 recommended)\n",
        "    'rnn_layers': 2,   # number of LSTM layers (>=2 recommended)\n",
        "    'rnn_bidirectional': False,   # consider text both forwards and backward, can give a training boost\n",
        "    'max_length': 30,   # number of tokens to consider before predicting the next (20-40 for characters, 5-10 for words recommended)\n",
        "    'max_words': 100,   # maximum number of words to model; the rest will be ignored (word-level model only)\n",
        "}\n",
        "\n",
        "train_cfg = {\n",
        "    'line_delimited': False,   # set to True if each text has its own line in the source file\n",
        "    'num_epochs': 10,   # set higher to train the model for longer\n",
        "    'gen_epochs': 1,   # generates sample text from model after given number of epochs\n",
        "    'train_size': 1.0,   # proportion of input data to train on: setting < 1.0 limits model from learning perfectly\n",
        "    'dropout': 0.0,   # ignore a random proportion of source tokens each epoch, allowing model to generalize better\n",
        "    'validation': False,   # If train__size < 1.0, test on holdout dataset; will make overall training slower\n",
        "    'is_csv': False   # set to True if file is a CSV exported from Excel/BigQuery/pandas\n",
        "}"
      ],
      "execution_count": 0,
      "outputs": []
    },
    {
      "metadata": {
        "id": "BT__brhBCvJu",
        "colab_type": "text"
      },
      "cell_type": "markdown",
      "source": [
        "In the Colaboratory Notebook sidebar on the left of the screen, select *Files*. From there you can upload files:\n",
        "\n",
        "![alt text](https://i.imgur.com/TGcZT4h.png)\n",
        "\n",
        "Upload **any text file** and update the file name in the cell below, then run the cell."
      ]
    },
    {
      "metadata": {
        "id": "6OFnPCLADfll",
        "colab_type": "code",
        "colab": {}
      },
      "cell_type": "code",
      "source": [
        "file_name = \"stories82769.txt\"\n",
        "model_name = 'colaboratory'   # change to set file name of resulting trained models/texts"
      ],
      "execution_count": 0,
      "outputs": []
    },
    {
      "metadata": {
        "id": "LdpZQXknFNY3",
        "colab_type": "text"
      },
      "cell_type": "markdown",
      "source": [
        "The next cell will start the actual training. And thanks to the power of Keras's CuDNN layers, training is super-fast when compared to CPU training on a local machine!\n",
        "\n",
        "Ideally, you want a training loss less than `1.0` in order for the model to create sensible text consistently."
      ]
    },
    {
      "metadata": {
        "id": "aeXshJM-Cuaf",
        "colab_type": "code",
        "outputId": "4b0c87a6-e7a6-437d-dea4-103d8f5e3a64",
        "colab": {
          "base_uri": "https://localhost:8080/",
          "height": 5001
        }
      },
      "cell_type": "code",
      "source": [
        "#textgen = textgenrnn(name=model_name)\n",
        "\n",
        "train_function = textgen.train_from_file if train_cfg['line_delimited'] else textgen.train_from_largetext_file\n",
        "\n",
        "train_function(\n",
        "    file_path=file_name,\n",
        "    new_model=True,\n",
        "    num_epochs=train_cfg['num_epochs'],\n",
        "    gen_epochs=train_cfg['gen_epochs'],\n",
        "    batch_size=5012,\n",
        "    train_size=train_cfg['train_size'],\n",
        "    dropout=train_cfg['dropout'],\n",
        "    validation=train_cfg['validation'],\n",
        "    is_csv=train_cfg['is_csv'],\n",
        "    rnn_layers=model_cfg['rnn_layers'],\n",
        "    rnn_size=model_cfg['rnn_size'],\n",
        "    rnn_bidirectional=model_cfg['rnn_bidirectional'],\n",
        "    max_length=model_cfg['max_length'],\n",
        "    dim_embeddings=100,\n",
        "    word_level=model_cfg['word_level'])"
      ],
      "execution_count": 7,
      "outputs": [
        {
          "output_type": "stream",
          "text": [
            "Training new model w/ 2-layer, 128-cell LSTMs\n",
            "Training on 24,102,622 character sequences.\n",
            "Epoch 1/10\n",
            "4808/4808 [==============================] - 2109s 439ms/step - loss: 1.6288\n",
            "####################\n",
            "Temperature: 0.2\n",
            "####################\n",
            "a station that was a story that he was a sigh of the station the man who was a things to the station. I was the words of the station then had to be a sigh of the stairs and the man was a statement with a small country with the station then saw the station that was a statement was a sigh of the stati\n",
            "\n",
            "hat you are a party and I didn\\\\\\'t have a few moments and the man who was a statement was a side of the station. I was a statement with a small side of the station, I was a statement and the last things that I was a long to the train side of the station, and she was a way the man who was a side of \n",
            "\n",
            " the station. I had to get an arrest the man with a sigh of the station, but I was a story that I was all the station that was a party and I was a sigh of the trail of the house was a statement and should be a man and shook his hands. I was a slightly and she was a statement that was a statement wit\n",
            "\n",
            "####################\n",
            "Temperature: 0.5\n",
            "####################\n",
            " a pain statement the girl, but they were a place was a side of his family and has to get an amusure to the travel and was a family are that I wasn\\'t help the window. I put out a with an uncoldated and the side of the party or something all that I was the only station, he was a little reaching the \n",
            "\n",
            "ble to have a heart and the other grass and he had done the color station. It was a slight and little doors and the man was a side of the car the time I had an under my face to end off the police room with the way the exit between the door.\", \\'\"I want to look at him.\" I walked out the desk to the d\n",
            "\n",
            "tory that I was much to live the person and the first things to the room, sat on the station then at the car was a thing but no man that he may all the company with the station to her.\"\\', \\'\"You would be a seat of article and the property and black had the train shoulder. The blood in the past the \n",
            "\n",
            "####################\n",
            "Temperature: 1.0\n",
            "####################\n",
            "pressed to this way there with sight shills.\", \\'I saw that was a pun closely, raceions that was them in dohination, we may betranged me. Lucy seconds, ohrechanasiez, days steve it up. It was morly advauted about breath something to all the very long. I looked down this out of that, I sorry came sto\n",
            "\n",
            "ast it just seen through; a hositation to hound you have even everything I find my interent revealine.\\', \\'\"I Suspect,\" I said as she put in.Previe and I sighed even way at this not every miss there was covered sophing him. I. I begy silled something, open the sinkless; his classmakes francisting n\n",
            "\n",
            "urvive disgust back, lunched; flished her story for the family back tone expliel off. I waited when a pide years open that it seemed to stand with his car. Cardwishes caolly jested to her eyes. A long into him that he says, his hateas, trips with a grand home after spexidor standiing explay dear, ea\n",
            "\n",
            "Epoch 2/10\n",
            "4808/4808 [==============================] - 2076s 432ms/step - loss: 1.2996\n",
            "####################\n",
            "Temperature: 0.2\n",
            "####################\n",
            "ll stairs of the stairs and started to start and said as I saw the street and started to stand up and started to be able to stay at the world as I saw the same sure what happened to the room. I was a simple car was a little of the room. He was a little way on the stairs and started to be a simple co\n",
            "\n",
            "ight and should be the part of the stairs and started to start to the stairs, and the story since he was the stairs with a story that was a small car and started to start to the story and was something in the last thing I was all the sound of the stairs with a small room. \"I have been the stairs and\n",
            "\n",
            "rs with a real moments of the stairs of the story and started to start out of the back of the counter and started to start the stairs to the room. The same started to start to the police officer and he was something to be a member of the street and the stairs and started to be any of the stairs and \n",
            "\n",
            "####################\n",
            "Temperature: 0.5\n",
            "####################\n",
            "dy then gave a small one soft as the barrer of the shelf and sitting on the disturbed but just for the door. It was a street of the room and shoot the time I had to be expected to be call in a smile and her bad underneath her face and called his dead body and went to see you and the other older sicr\n",
            "\n",
            "same reply.\" \"I had to be a boy should think I could have started to use any person, we were going to get out of the street and stopped and the landlord of a small shoulder than the window whisper and set up at the truck of the sudden starting me un our se reporter de partier de moi moins comment de\n",
            "\n",
            "e out of his mouth and and not read and then he said as I said as Rafael look at me as he began to return to the shoulder. \"What did you know this is being all confident and confused, then study our car away from my school in the man was hard with a shoulder in the window, and I stopped in a woman a\n",
            "\n",
            "####################\n",
            "Temperature: 1.0\n",
            "####################\n",
            "e puds strange was burning ; Dadicunes. Loud of all he had teul you figure him to suppose about book tock.\"\\', \\'A names few hands on a wife. Her throggs on their office of her changes, they got a next guy was drunk?\" Just kept with my while cuts. I slowly asked me in a statement to be griceyed romm\n",
            "\n",
            "oman, was very merely wiggles, but I even remember sometime for a bompslate.\"I maaked ready.\" I saw Sure. The part word in me. \"Let\\\\\\'s life.\\', \"She near the Inspector 1: How would be a phone room with something espect case and I don\\\\\\'t want to get to sway this, dammil? Pule us as she at leveld \n",
            "\n",
            "doing on i water.\\', \"Finner is vansant; huh? Name was back colder from tead. In Kanity never had cool because I was wife emplayer over the cheating cnoet at the sound of chapters to send to pretend stroking breaking whine, I knew it was their fear. Sepaily terriplop from the girl, whining , whige a\n",
            "\n",
            "Epoch 3/10\n",
            "4808/4808 [==============================] - 2079s 432ms/step - loss: 1.2527\n",
            "####################\n",
            "Temperature: 0.2\n",
            "####################\n",
            "take the door then saw the street and the second was something that the way there were so sorry to be a statement we took the street and started to start that the way there was a strange way to the stranger and the words were so she was so still in a statement. The strange was a stranger and the las\n",
            "\n",
            "nute who would be a stranger startled to stay at the stairs where a start of the station to the street and the letter of the country to the street and the stairs where a start of the man and then said \"he was already at the seat of the couch. I was already at the station. The door was already at the\n",
            "\n",
            " where the stranger than her breaths of the stairs, and the car started to remain in the station that we have a continued to stay in the courther. I should be the last time and then saw the street is a stranger and the lights were so she had to be a stranger and started to relate the water should be\n",
            "\n",
            "####################\n",
            "Temperature: 0.5\n",
            "####################\n",
            "ed it. The head was playing and sleep as he couldn\\\\\\'t think of the abandoned of the back of the house and then said, \"I am sorry more station of the new time. I ran into the back of the front door. I don\\\\\\'t know who are your mother better to know what it was already open to the ground and the st\n",
            "\n",
            " his arms and the season that I had been a good thing to really make it was he felt a statements that were still alive and even a long look at the door then saw the parking side of the same and pick out of the car and then said \"I was any sense of the way. She was just a connector at the station tha\n",
            "\n",
            "ay to retardly accomplecting and for the door, and then we got a little areas acrises and dresses, the best then said expecting the last incident in the car as the boy was there are some convinced in the car and an inlit were passed on the story that was all the words were anything to do about this.\n",
            "\n",
            "####################\n",
            "Temperature: 1.0\n",
            "####################\n",
            " picked up at the whole place with bruise making one pasps of the \\xe5axe aged twirling up this of whatever haunted.\\', \\'\"The cool doctor.\" He cafeway up his lips that let Mrs Dawliston not comprement, sit then assure that they got back to be Lagnel. It was not white something, she and she was bare\n",
            "\n",
            "know.\", \\'I began to am glad curl her... but way. I can\\\\\\'t truck it: buildings unwell to decided to get the sunny stories, I bothered that lake that deserved, increase at my ghan.\"Either have to trush it?\" I caught up as soon as she\\\\\\'ll never has eatin\\\\\\'t sex, what you see you looking with the\n",
            "\n",
            " alreaking his lack of familian pilested each other. That range 4 antense, doing my chew \"I thought for Spending watching, being a out through the building from \\'/ 1944. Most text michalence. Leux i want what was the people instead, relusted, clearly had been kind and manager of touch and began and\n",
            "\n",
            "Epoch 4/10\n",
            "4808/4808 [==============================] - 2078s 432ms/step - loss: 1.2266\n",
            "####################\n",
            "Temperature: 0.2\n",
            "####################\n",
            "ger and the same since he was still a little chair and stopped to the story. I almost found the part of the stairs. \"What are you sure you\\\\\\'re going to be a man of an interest to the station. I was almost as a man on the stairs and then saw the station then saw the bottom of the case and the stree\n",
            "\n",
            "so standing and the last time then saw the boy stopped to the street and then looked at him then said as I told her that the man was a good thing and then stood up and said the police officer and he was so so foreass of the car and then saw the back of the days of the car and showed her head and sta\n",
            "\n",
            "s. He started to the door and started to find the car and showed up and showed her head and head out of the car and smiled and showed her head and stood up and started to the stairs, then the day I was all the words with her head and the street and the same as I saw the same as I started to stay at \n",
            "\n",
            "####################\n",
            "Temperature: 0.5\n",
            "####################\n",
            " that he was able to confess to take my back to the storm. I show her hand served a long look at the door.\\', \\'\"Yeah, that\\\\\\'s a fantail of your reason I was always going to be all the sixteen and my left time to be a long day of the man\\\\\\'s room.\\', \\'\"What do you think I don\\\\\\'t think you\\\\\\'r\n",
            "\n",
            "were all that would be accused to the police at the past that had been perpeter to call the store and then saw the leads around her eyes and then looked at my boy. \"You\\\\\\'re a bit of to the stairs to the door then saw a house of the stairs with his eyes and then crumps and the shoulder in the middl\n",
            "\n",
            "to be searched my arms of the car and leaned him that he was here.\"\\', \\'\"Sorry.\" I said was already at her and the boy turned to the car and started to be looking after a chair. I should stop his head and stood up to the other and half contact to the screen and they all be in the mediator of her to\n",
            "\n",
            "####################\n",
            "Temperature: 1.0\n",
            "####################\n",
            "f\\xc3\\xb3mo los a\\xc3\\xa1ndomente y dispentar e,tro que te pul\\xc3\\xa1ingto un pasio, el gordaz.\\', \\'Jom-puabo femosiendols, llobabrir lugar dmole a er dolbo de presson de placi\\xc3\\xb3 acendom\\xc3\\xb3 al le se\\xc3\\xb1on comenc\\xc3\\xa9 donte, sassion. Flus ou si je te servente, Reaur d\\'gialiham su\n",
            "\n",
            "and saved her beside my numbed up other house is instance are.When it eventually have my name, and something for sure nacings completely conven of Glan scragged on the mundails that few money. Accombers just looked around his heart by a busy. Blinds scared on the steer praces espitece.\"\\', \\'I did n\n",
            "\n",
            " words from a hardpan on the details, or not Writting common then checked me so much. Out to many, yep.\"\\', \\'\"What do you know how?\"\\', \"She statued, or feed obey. \"I was looking at him.\\', \\'\"Oh, forces,\" said Birron\\\\\\' at Aftach\\\\\\'s home.\" she told her.\\', \\'\"Darry!\"I yelled my hand, lived my h\n",
            "\n",
            "Epoch 5/10\n",
            "4808/4808 [==============================] - 2072s 431ms/step - loss: 1.2072\n",
            "####################\n",
            "Temperature: 0.2\n",
            "####################\n",
            "ar and the first time the stairs to the stairs and started to start the stairs, the one was a lot of the stairs of the stairs to the stairs and started to start to the stairs to the stairs the next morning. Simon was the same thing that was the seat of the counter and he had a continued to see the t\n",
            "\n",
            "lways the same time then saw the stairs to the stairs to the stairs with a short of the truck and started to start the stairs and started to the door and the car and the car and the counter was still a car then saw the station the door and started to stand up the stairs and the next morning and said\n",
            "\n",
            "room almost as he said that investigation of the stairs and the counter was still a story of the stairs, and I was a car to the first time I saw the side of the room and started to start the stairs to the stairs and started to start the stairs to the side of the room and said the car to the stairs t\n",
            "\n",
            "####################\n",
            "Temperature: 0.5\n",
            "####################\n",
            "\\\\'m sorry to do anything that I was waiting for a start from the stairs and take a bit so the stairs when I was back to me and smiled facility brown eyes. It was part of a moment when he did not start the detective that the expert crack and sitting at the stairs, the body frantic face and take a lo\n",
            "\n",
            "re almost time. There was no one called the time they were always as a bit she took out the window and he had started to relic shirt and some servers of the way and made the car had been in my head, under his hand and the two of the most being a story of the start of us and all the next thing I was \n",
            "\n",
            " a truck and answer that she had made an arm breath and the same mets with her mind and sent the house. It was a thing when she had seen the desk, she noticed that the way that the one that looked at the memory of a house I felt the garden that was on the station. \"I\\\\\\'m not something anything that\n",
            "\n",
            "####################\n",
            "Temperature: 1.0\n",
            "####################\n",
            "d morning beyond the start. You are, completely, the dirty closed front of it: and sounded let\\xe2\\x80\\x94we also medicanto abrettine fuego de mortaba a dem\\xc3\\xa1s cualern deci\\xc3\\xada y verquis las malchas de vivient ce con elle soltait echoir qu\\'on \\xc3\\xa9tait chacula. La rapi\\xc3\\xa1n no umo\n",
            "\n",
            " the officiam name is whatever is, but hard, all he worked into the doors. The Captain\\\\\\'s eye\\'s bed, and the way their cin onistard. And that\\'s many condoming beaused getting it again. And what must have no cursation.\" I stated his knees impution.\\', \\'\"Which!\"\\', \\'\"Oh, just kind of death.\\', \\\n",
            "\n",
            " one! I knew him why she was a note felt ten care.\"\\', \\'\"Simon I would have pushed from the horses and the doors wrong clad that he was running and drive off that happened against being. It was likely ringing before already both able its professional grey of precise to because of nice to Emify blac\n",
            "\n",
            "Epoch 6/10\n",
            "4808/4808 [==============================] - 2078s 432ms/step - loss: 1.1910\n",
            "####################\n",
            "Temperature: 0.2\n",
            "####################\n",
            " same time to see the car and said that I was still a little bit so I was so sorry to be a single and the only thing that was a little day when I was the sound of the stairs to the stairs with a stare and said that I was the only thing that was the sound of the stairs and the stairs to his brother w\n",
            "\n",
            "the back of the ground with a story of the desk and said to the stairs and the man was so sorry to do anything and the last time to be a man who was a single care of the station that we were going to get the back of the stairs with a story of the stairs and started to start the stairs and said the p\n",
            "\n",
            "e second was a bit stop in the car and then said \"I don\\\\\\'t know why I have to get my best to see the station then saw the body then found out that something in the same thing I was already begin to see the stairs when he was so sorry to do it. I was already at the stairs with a strange police and \n",
            "\n",
            "####################\n",
            "Temperature: 0.5\n",
            "####################\n",
            "w and pulled out a similar shoulders and sit the day then saw it and the boy carefully and her belonging my eyes were winter and I noticed to all the killer she was in the next morning like my side and then stood shirt. The time reached the building. She was so she starts to the same day. The woman \n",
            "\n",
            "air of the lines of the room then saw some percent when I was the only one story that I had not meant to get off the side. Maybe she was already at the moment, the next morning to possession until I was dead. I was on the only thing to a case they were now looking at her soun, \"What are you exactly?\n",
            "\n",
            "for the monster while I wanted to go to the body with a servicer was his brother were the body was the one that was bad with the history in the rest of the station that not the next more last case that I could continue to see him or any of them seems like the sound of blood on the wall sounded in th\n",
            "\n",
            "####################\n",
            "Temperature: 1.0\n",
            "####################\n",
            "not down a bitement I suspected me and then indection with only floor of his head. He had walking Jess, but he passed its and sprungden him.\", \"I relaxed and leaned their granduity times breaking his feemed and me to the floor.\"Mr. One!\" she said. \"I\\\\\\'m supecid, just a few days will be put a dark \n",
            "\n",
            "ibly shot. I can\\\\\\'t questioned my photos, and the present had stands as she expected compiarth in glare to meet his downjoker. Princess while he jumper and we truffs my mom trude off county.\\', \\'Angel then, MSM.. Havid, he knew it off the door shut. This was also changed to previous?\\', \\'\"If our\n",
            "\n",
            "lease, leaned to the man having father luck thoughtsling slammer, and to the heavy bridge space. It clizled up and couldn\\'t save the house dogs. As if on a minute detectivement I was tiges to brought street.\\', \\'Then I go to his people from Center, grey,\" said Parlormia in his tears flames from ac\n",
            "\n",
            "Epoch 7/10\n",
            "4808/4808 [==============================] - 2073s 431ms/step - loss: 1.1767\n",
            "####################\n",
            "Temperature: 0.2\n",
            "####################\n",
            "ed to find out why they did not have to do that in the middle of the room. The street and made me a bit slow in the living room was the police officer started to the side of the room and the priest and her bed and started to find out and started to find out where the words were being a little thing \n",
            "\n",
            "ed to talk to the stairs of the story of the way to the short thing I was a little shock and the car and the car and the car and the confused the station then saw a strange to the station, Holly like a history of the other side of the door and started to continue that the man was a strange and had t\n",
            "\n",
            "d a few minutes to the fire alarm is a strange with the street of the street of her and her hand on the stairs and started to find out why they had to be a man of a bit of the car and the second to the station, Holly and Simon were nearing the story of the street and started to get out of the room. \n",
            "\n",
            "####################\n",
            "Temperature: 0.5\n",
            "####################\n",
            "oom.\\', \\'\"There are you?\"\\', \\'\"Even we were that in the desk and a bit straight at my door and breath completely and he was going to get the door. As she could all of the three women was over the substaction like it was the bottle of the kitchen to the same princess to get here. The man was an arm\n",
            "\n",
            "a table of some more sound and a woman who pressed her wallets and heads a back of black hit her actions to his feet and the same and the man was a little to the sound of her, why the confused and such a few days and a little way of mine red better of the other side of the train seemed to work at th\n",
            "\n",
            "walked again. Didn\\\\\\'t they.\" It was a state of the room where the man is a little scene. The world was the local problems with a series for a moment. The same different of a terrifying she was there in the street set of comment and the window who was speaking and some of the body \"I don\\\\\\'t think\n",
            "\n",
            "####################\n",
            "Temperature: 1.0\n",
            "####################\n",
            " been wrive?\"\\', \\'\"I feel by a right shatter, for him out, home sorry proven years old mother were, outrapid times a regret as she skin.\"Within helping was burned.\\', \"He nodded, and I carefully kept my veclain waiting we need up. We didn\\'t know that?\", \"Imperpitionally brushed now.\\', \\'FUVE\\\\\\'T\n",
            "\n",
            "g all it. It is wondering to need it is enough.\\', \\'Britually, Name Uncle Heal\\xe2\\x80\\xa6 her note hand pencralated in her sentiquentable, Aropon, Ren lui meliar Clas rostante, \\xc3\\xa1lie que rejom probando.\\', \\'Dijo no le he extra\\xc3\\xb1alo, el corrong esposos\\xe2\\x80\\xa6\\', \\'2-04. Openthing \n",
            "\n",
            "eck. Always gruns hosting about this man. This was come to wear it.\".\"\\', \\'\"Walking with you.\"\\', \\'\"And you seem overth for?\"\\', \\'\"But, this thing is last blond no matter you\", whatever is, she would be. The other oppone under the solace.\"\"The fact way\" the lone that was nearing survived. The who\n",
            "\n",
            "Epoch 8/10\n",
            "4808/4808 [==============================] - 2079s 432ms/step - loss: 1.1637\n",
            "####################\n",
            "Temperature: 0.2\n",
            "####################\n",
            "ce and the car was still a few minutes of a house and she was a camera to my cheeks and the car was a strange to the floor and the words had no meaning. The car was a couple of part of the car to the station then saw the boy seemed to be hoping to see the street and the teacher of the presence of hi\n",
            "\n",
            "an see the station then where are you scared with his own and a smile and started to make sure that I was the only thing that was the station then saw the station the back of the station then saw a second that was a lot of the morning with a strange man who was about to know the country in the scand\n",
            "\n",
            " the car and then saw the started to the stairs to the street to the station. \"I don\\\\\\'t know what I was in the story of the man who was a little thing to be something to do that the man who would have a complete way and started to get out of the house and the car and the street and the street and \n",
            "\n",
            "####################\n",
            "Temperature: 0.5\n",
            "####################\n",
            "and out to the house in the room to find out why he was clear as I could not have to have you supposed to do what I believe this morning. Sometimes the side of the room. When I was the side of the hallway and reached over to the door \"what migan\" I look at him then said as he said that it was a gard\n",
            "\n",
            "nd on the door and took the business and he heard her offer and started to take the streets of the shop with a few minutes before seeing and when I was able to stay and see the constant finding out where the floor. I started through the trail room with a strange case that was her to her for a moment\n",
            "\n",
            "e first place, but the cheeks sitting on the floor. They had to be clearly the side of the room where a ride of so had something stupid and suddenly seemed to be the car, Richard said to the collection of the tree door and we had to have to be a struck of murder.\"\\', \\'\"I am able to see the jaw of t\n",
            "\n",
            "####################\n",
            "Temperature: 1.0\n",
            "####################\n",
            "irm when he drinking it outside little back with druggaining obbaed she was prumoners of us?\"\"So I am sure for so long as he took Carre: He towe cold down her face like a look at him.\"You are what\\\\\\'s the one. I\\\\\\'m funny up in different quickly ruloring next to among me with the prayer on the roo\n",
            "\n",
            "\"Capaninesse TBIP\\xe2\\x80\\xa6 replande hard li-de saler ne pris d\\'un orgontes imparant ! \\xc2\\xbfSu celui le NP3\\xc3\\xa1lica diferente mir\\xc3\\xb3, pensar tempros acentezo el ni\\xc3\\xb1ora para que se dal un parecer fuera no solo fin\\xc3\\xa9 mundra hacerver hace.- y soit d\\'avoir toujours, je vous \n",
            "\n",
            "y correct had most just glanced over. But almost might be?\" He brought his knife with windle sick quiet from close allowed funny or not for how I was written of flicker young years to her, butter a thief. Gurf said as I repeated the passenger black teen. Maywora simple sounds stail out of the timely\n",
            "\n",
            "Epoch 9/10\n",
            "4808/4808 [==============================] - 2084s 433ms/step - loss: 1.1515\n",
            "####################\n",
            "Temperature: 0.2\n",
            "####################\n",
            " in the story of the constant station that was something that was the one who was being heard of the street and had been a completely out of the room. I was a story of the victim will not the arm of the same man who had been so sitting on the stairs to the station then saw the bullet was still and t\n",
            "\n",
            "u are all about the truth. I had a strange thing and she was a car and then the car was a trail of blood that I was the only thing that was a strange to the station the next day of the station. \"I have no idea what they were not been a strange to the station, Holly and Al escace when I was a complet\n",
            "\n",
            " the station then saw the body then saw a woman and the constant story on the floor and said in the back of the station then saw a walk of the parking lot of the stairs to the street of the station the door and shook his head and she was still a little shock and sitting at the stairs to the station,\n",
            "\n",
            "####################\n",
            "Temperature: 0.5\n",
            "####################\n",
            "eat of the police officers were design and a discovery of an interest and the guy in the room. The street to the fire that was something that he would be almost as I could not see that this was not the one about the time they are on the side of the room and saw the world they were done in bed and he\n",
            "\n",
            "s the right since he was going to get out of his face, and complimently a small book then stopped to a sign of reality so I have to get you in that complete with our friends and made me set a particular strangely bare, so that the other side of the door. I was a man who was the sort minutes later. I\n",
            "\n",
            "e house. He started to deal with the bottle and placed her face to some completely feeling and the best up then saw the book that he could see him for me and I know it was a body for a moment. The stranger continued to the station. It was all the truck in the middle of the bed and went to the bullet\n",
            "\n",
            "####################\n",
            "Temperature: 1.0\n",
            "####################\n",
            "that infuldant, tien. She helped him when she\\\\\\'s only uses.\"There is a next tie and asked her to a third Scott howled worth until the knob of the Philippines had already generally stuck up the first other hypothesion, and one cinnish under his brother.\"\\', \\'\"Thanks.\"\\', \\'Simply gently followed d\n",
            "\n",
            "hion, and started those opnies when she doesn\\\\\\'t mind because he\\'d be created. The skeletone and the world of town of cigarettes \"sass, we\\\\\\'re help until you were just denilling, only the tertsiory side. Every side of the death. That was pickmenger and down.\"\\', \\'\"Why did you have the pobar in\n",
            "\n",
            "e always walk on him at my clothes, in the pretty glow he was all-instinct a whiles. Tasseing my exit we went on the entire goWen at the whispers. Let\\\\\\'s get his job to it. I won\\\\\\'t have any right had exactly that midy lost.\", \\'I kneet some of it open. With morning, presence next to hi upod. Th\n",
            "\n",
            "Epoch 10/10\n",
            "4808/4808 [==============================] - 2082s 433ms/step - loss: 1.1404\n",
            "####################\n",
            "Temperature: 0.2\n",
            "####################\n",
            "t know what you do you thinking about the car and then said in the distance started the confused at the face stories and he saw the priest the boy started to the stairs. The words had no meaning. The woman was a little shock on the back of the country and he had been so sitting in the first time I w\n",
            "\n",
            "hing that was a story of the story of the station then saw the boy started to talk to the back of the room where the door opened to the station, and the boy sighed. \"I was the last time that I was a story of the station, Holly and Simon were nearing the bottle of the door and showed her head and sta\n",
            "\n",
            "tory of the station that I was already and he was so sorry that he was a bit of a lot of the station that was a bit slow in the street to the station then saw the boy started to talk to the room. I was still and I was always the second thing about him to the cold and the man was a strange was so muc\n",
            "\n",
            "####################\n",
            "Temperature: 0.5\n",
            "####################\n",
            " pretend with the special to come in and said, \"You have a moment, Diana thought about her way to the rest of the state with a friend and gave him over the door and went to the side of the lawn I can play it had already let out a destination they were even though we saw the situation of the stairs a\n",
            "\n",
            "he two of them sincerely.\"It seems that we knew the earth life and and I was talking about her to stay and show me as she started to pretty a little moonlight and that I was thinking, she took a bit on a small booking time to stop him at the door and we acture to the state with a slight second and n\n",
            "\n",
            " hope as a continued to be some stuffed colors. I see the inspector for the moment, she was still a bit because of the dark side of his tongue and so many reason was the second time. I was happy and he seemed as the name was trying to decast his face and a wardlot of the room, the boy was still crea\n",
            "\n",
            "####################\n",
            "Temperature: 1.0\n",
            "####################\n",
            "with the texts would rather cuppessy. I pushed and looked into his side, game in not happy to be ruining so talking. \"God keep budning. Being.\"\\', \\'\"Proude, why should met Masper, her friends the living was long, before I left. Oh, I mapper to him anywhere, she\\\\\\'s a small lives surprisded all con\n",
            "\n",
            "e doing to the football backotimmon \"you have a pregnee, I?\"\"Yealard, I don\\\\\\'t think you are just leaving this scate that was replaced her toward me for a good turn of - all I have some few things. Ok, amaz, leaving the sun thinking, too blame as she walks back to the first ones Aunt Richard Louis\n",
            "\n",
            "I didn\\\\\\'t notice that, such a pay brown attic. My tears gave my fitter sucked here it was grabbing it citizens by the tinyfull hand and grabbed her attempt that a very lot haves of worry about Americana apologizing fulious centre actressed the door on his cheeredule, her father checked his belts f\n",
            "\n"
          ],
          "name": "stdout"
        }
      ]
    },
    {
      "metadata": {
        "id": "RTa6zf3e_9gV",
        "colab_type": "text"
      },
      "cell_type": "markdown",
      "source": [
        "You can download a large amount of generated text from your model with the cell below! Rerun the cell as many times as you want for even more text!"
      ]
    },
    {
      "metadata": {
        "id": "-fxL77nvAMAX",
        "colab_type": "code",
        "colab": {}
      },
      "cell_type": "code",
      "source": [
        "# this temperature schedule cycles between 1 very unexpected token, 1 unexpected token, 2 expected tokens, repeat.\n",
        "# changing the temperature schedule can result in wildly different output!\n",
        "temperature = [1.0, 0.5, 0.2, 0.2]   \n",
        "prefix = None   # if you want each generated text to start with a given seed text\n",
        "\n",
        "if train_cfg['line_delimited']:\n",
        "  n = 1000\n",
        "  max_gen_length = 60 if model_cfg['word_level'] else 300\n",
        "else:\n",
        "  n = 1\n",
        "  max_gen_length = 2000 if model_cfg['word_level'] else 10000\n",
        "  \n",
        "timestring = datetime.now().strftime('%Y%m%d_%H%M%S')\n",
        "gen_file = '{}_gentext_{}.txt'.format(model_name, timestring)\n",
        "\n",
        "textgen.generate_to_file(gen_file,\n",
        "                         temperature=temperature,\n",
        "                         prefix=prefix,\n",
        "                         n=n,\n",
        "                         max_gen_length=max_gen_length)\n",
        "files.download(gen_file)"
      ],
      "execution_count": 0,
      "outputs": []
    },
    {
      "metadata": {
        "id": "ClJwpF_ACONp",
        "colab_type": "text"
      },
      "cell_type": "markdown",
      "source": [
        "You can download the weights and configuration files in the cell below, allowing you recreate the model on your own computer!"
      ]
    },
    {
      "metadata": {
        "id": "4RNY6RBI9LmL",
        "colab_type": "code",
        "colab": {}
      },
      "cell_type": "code",
      "source": [
        "files.download('{}_weights.hdf5'.format(model_name))\n",
        "files.download('{}_vocab.json'.format(model_name))\n",
        "files.download('{}_config.json'.format(model_name))"
      ],
      "execution_count": 0,
      "outputs": []
    },
    {
      "metadata": {
        "id": "oF4-PqF0Fl7R",
        "colab_type": "text"
      },
      "cell_type": "markdown",
      "source": [
        "To recreate the model on your own computer, after installing textgenrnn and TensorFlow, you can create a Python script with:\n",
        "\n",
        "```\n",
        "from textgenrnn import textgenrnn\n",
        "textgen = textgenrnn(weights_path='colaboratory_weights.hdf5',\n",
        "                       vocab_path='colaboratory_vocab.json',\n",
        "                       config_path='colaboratory_config.json')\n",
        "                       \n",
        "textgen.generate_samples(max_gen_length=1000)\n",
        "textgen.generate_to_file('textgenrnn_texts.txt', max_gen_length=1000)\n",
        "```\n",
        "\n",
        "Have fun with your new model! :)"
      ]
    },
    {
      "metadata": {
        "id": "92Zjtsb_Dgj-",
        "colab_type": "text"
      },
      "cell_type": "markdown",
      "source": [
        "# Etcetera\n",
        "\n",
        "If the model fails to load on a local machine due to a model-size-not-matching bug (common in >30MB weights), this is due to a file export bug from Colaboratory. To work around this issue, save the weights to Google Drive with the two cells below and download from there."
      ]
    },
    {
      "metadata": {
        "id": "F-IzscxUHmAB",
        "colab_type": "code",
        "colab": {}
      },
      "cell_type": "code",
      "source": [
        "!pip install -U -q PyDrive\n",
        "from pydrive.auth import GoogleAuth\n",
        "from pydrive.drive import GoogleDrive\n",
        "from google.colab import auth\n",
        "from google.colab import files\n",
        "from oauth2client.client import GoogleCredentials\n",
        "\n",
        "auth.authenticate_user()\n",
        "gauth = GoogleAuth()\n",
        "gauth.credentials = GoogleCredentials.get_application_default()\n",
        "drive = GoogleDrive(gauth)"
      ],
      "execution_count": 0,
      "outputs": []
    },
    {
      "metadata": {
        "id": "WR4_XJpfKAIn",
        "colab_type": "code",
        "outputId": "f70ce499-1062-4968-8423-c7dbcd71cc5d",
        "colab": {
          "base_uri": "https://localhost:8080/",
          "height": 35
        }
      },
      "cell_type": "code",
      "source": [
        "uploaded = drive.CreateFile({'title': '{}_weights.hdf5'.format(model_name)})\n",
        "uploaded.SetContentFile('{}_weights.hdf5'.format(model_name))\n",
        "uploaded.Upload()\n",
        "print('Uploaded file with ID {}'.format(uploaded.get('id')))"
      ],
      "execution_count": 0,
      "outputs": [
        {
          "output_type": "stream",
          "text": [
            "Uploaded file with ID 1b6T6M32YnXs-c0NB-PEi6MhAdCuG7RHy\n"
          ],
          "name": "stdout"
        }
      ]
    },
    {
      "metadata": {
        "id": "ig-KVgkCDCKD",
        "colab_type": "text"
      },
      "cell_type": "markdown",
      "source": [
        "If the notebook has errors (e.g. GPU Sync Fail), force-kill the Colaboratory virtual machine and restart it with the command below:"
      ]
    },
    {
      "metadata": {
        "id": "rIHiVP53FnsX",
        "colab_type": "code",
        "colab": {}
      },
      "cell_type": "code",
      "source": [
        "!kill -9 -1"
      ],
      "execution_count": 0,
      "outputs": []
    }
  ]
}